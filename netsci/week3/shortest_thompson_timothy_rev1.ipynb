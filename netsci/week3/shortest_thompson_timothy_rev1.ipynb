{
 "cells": [
  {
   "cell_type": "code",
   "execution_count": null,
   "metadata": {
    "collapsed": true
   },
   "outputs": [],
   "source": [
    "# Assignment\n",
    "\n",
    "For this assignment you will calculate and plot the distribution of the path lengths of a graph. First we will generate the graphs:"
   ]
  },
  {
   "cell_type": "code",
   "execution_count": 48,
   "metadata": {
    "collapsed": false
   },
   "outputs": [
    {
     "name": "stdout",
     "output_type": "stream",
     "text": [
      "Name: gnp_random_graph(1200,0.008)\n",
      "Type: Graph\n",
      "Number of nodes: 1200\n",
      "Number of edges: 5779\n",
      "Average degree:   9.6317\n"
     ]
    }
   ],
   "source": [
    "import networkx as nx\n",
    "import numpy as np\n",
    "import matplotlib.mlab as mlab\n",
    "import matplotlib.pyplot as plt\n",
    "from collections import deque\n",
    "\n",
    "%matplotlib inline\n",
    "\n",
    "#random_graph = nx.erdos_renyi_graph(10, 0.6)\n",
    "random_graph = nx.erdos_renyi_graph(1200, 0.008)\n",
    "print(nx.info(random_graph))"
   ]
  },
  {
   "cell_type": "markdown",
   "metadata": {},
   "source": [
    "## 1. Write shortest path algorithm\n",
    "\n",
    "Let's write an algorithm that will calculate the shortest paths between all the nodes and then place the lengths of those shortest paths in a sequence (such as a list or array). \n",
    "\n",
    "The first task will be creating a function that calculate the shortest path lengths from a single node to everyone else, like the following:"
   ]
  },
  {
   "cell_type": "code",
   "execution_count": 8,
   "metadata": {
    "collapsed": false
   },
   "outputs": [],
   "source": [
    "def all_shortest_path_lengths_from(G, node):      \n",
    "    \"\"\"\n",
    "    BSF implementation copied from MIT Open Courseware Lecture 13, Breadth-First Search (BSF): \n",
    "    https://ocw.mit.edu/courses/electrical-engineering-and-computer-science/6-006-introduction-to-algorithms-fall-2011/lecture-videos/lecture-13-breadth-first-search-bfs\n",
    "    \"\"\"\n",
    "    \n",
    "    level = {node: 0}\n",
    "    parent = {node: None}\n",
    "    i = 1\n",
    "    frontier = [node]\n",
    "    \n",
    "    while frontier:\n",
    "        next_frontier = []\n",
    "        for u in frontier:\n",
    "            for v in G[u]:\n",
    "                if v not in level:\n",
    "                    level[v] = i\n",
    "                    parent[v] = u\n",
    "                    next_frontier.append(v)\n",
    "        frontier = next_frontier\n",
    "        i += 1\n",
    "    \n",
    "    return level\n",
    "\n",
    "def all_shortest_path_lengths_from_deque(G, node):\n",
    "    \"\"\"\n",
    "    BSF implementation adapted from Grokking algorithms, Adity Y. Bhargava. Manning Publications, 2016.\n",
    "    Uses the deque collection object to store the search queue. \n",
    "    \n",
    "    I added a for-loop to the original implementation in order to properly record the level of each \n",
    "    cluster of neighbors.    \n",
    "    \"\"\"\n",
    "    \n",
    "    search_queue = deque()\n",
    "    search_queue += G[node]    \n",
    "    searched = {node}\n",
    "    \n",
    "    level = {node: 0}\n",
    "    parent = {node: None}\n",
    "    i = 1\n",
    "    \n",
    "    while search_queue:               \n",
    "            \n",
    "        neighbor = search_queue.popleft()\n",
    "        \n",
    "        for n in G[node]:\n",
    "            \n",
    "            if (not n in searched and \n",
    "                not n in level):\n",
    "                \n",
    "                if \n",
    "                level[n] = i                                                                                                                                \n",
    "                parent[n] = node      \n",
    "                searched.add(n)\n",
    "                search_queue += G[n]                        \n",
    "                \n",
    "        node = neighbor\n",
    "            \n",
    "        i += 1\n",
    "                \n",
    "    return [level]    \n",
    "    "
   ]
  },
  {
   "cell_type": "code",
   "execution_count": 94,
   "metadata": {
    "collapsed": false,
    "scrolled": true
   },
   "outputs": [
    {
     "name": "stdout",
     "output_type": "stream",
     "text": [
      "718983\n"
     ]
    }
   ],
   "source": [
    "p = all_shortest_path_lengths_from(random_graph, 0)\n",
    "print(sum(p))"
   ]
  },
  {
   "cell_type": "markdown",
   "metadata": {},
   "source": [
    "You need a queue that stores the nodes to visit at the next hop. You pull one from this queue, say `i`, assign the current distance, and then go through each neighbor of `i` and see whether we have seen the node before or not. If we have seen it, we can ignore it (we already know the shortest distance). If not, we should put this node to the queue. You may want to have two queues (or lists or sets) for the \"current\" level and the \"next\" level of the search. \n",
    "\n",
    "After getting the single-source shortest path algorithm right, you can apply it to every node in the graph and obtain the list of shortest path length values. "
   ]
  },
  {
   "cell_type": "code",
   "execution_count": 108,
   "metadata": {
    "collapsed": false
   },
   "outputs": [],
   "source": [
    "#def all_shortest_path_lengths(G):    \n",
    "#    \"\"\"Creates a list of path lengths starting from each node in the graph.\"\"\"\n",
    "    \n",
    "#    paths = []\n",
    "#    nodes = []\n",
    "        \n",
    "#    for node in G:                \n",
    "#        nodes += all_shortest_path_lengths_from(G, node)         \n",
    "#    for p in nodes:                        \n",
    "#        for n, v in p.items():  \n",
    "            \n",
    "#            paths.append(v)                                           \n",
    "#    return paths\n"
   ]
  },
  {
   "cell_type": "markdown",
   "metadata": {},
   "source": [
    "Apply your algorithm to the ```random_graph```."
   ]
  },
  {
   "cell_type": "code",
   "execution_count": 103,
   "metadata": {
    "collapsed": false
   },
   "outputs": [
    {
     "name": "stdout",
     "output_type": "stream",
     "text": [
      "[4, 0, 3, 4, 3, 3, 3, 3, 3, 1, 3, 2, 3, 3, 4, 4, 3, 4, 3, 4, 2, 4, 3, 3, 3, 3, 3, 3, 3, 3, 3, 2, 3, 4, 4, 3, 3, 4, 4, 4, 3, 4, 3, 4, 3, 3, 4, 4, 4, 4, 3, 4, 3, 3, 4, 4, 3, 3, 2, 4, 3, 3, 3, 4, 3, 3, 4, 4, 3, 3, 3, 4, 1, 4, 3, 4, 3, 4, 4, 4, 2, 4, 2, 3, 4, 4, 3, 3, 4, 3, 3, 3, 4, 3, 3, 2, 2, 2, 3, 3, 2, 4, 3, 4, 3, 3, 4, 3, 4, 3, 3, 2, 3, 4, 3, 4, 4, 4, 3, 3, 2, 3, 4, 3, 3, 3, 2, 3, 4, 2, 4, 3, 3, 2, 3, 3, 4, 4, 3, 4, 3, 3, 4, 3, 3, 4, 4, 4, 3, 3, 4, 2, 4, 4, 4, 4, 3, 3, 4, 4, 4, 2, 3, 3, 3, 4, 4, 3, 2, 4, 3, 4, 3, 2, 4, 1, 3, 3, 4, 2, 3, 4, 4, 2, 3, 4, 4, 3, 4, 4, 3, 3, 3, 3, 3, 3, 3, 4, 3, 3, 3, 3, 3, 3, 4, 4, 3, 4, 4, 3, 3, 2, 3, 3, 3, 3, 4, 2, 4, 3, 4, 3, 4, 3, 3, 3, 3, 3, 3, 4, 4, 3, 4, 3, 3, 3, 2, 3, 2, 3, 4, 4, 4, 3, 4, 3, 3, 4, 4, 4, 3, 4, 3, 3, 4, 3, 3, 3, 3, 3, 3, 3, 3, 4, 3, 3, 3, 4, 4, 3, 4, 4, 4, 3, 4, 4, 3, 3, 4, 3, 4, 4, 4, 3, 3, 2, 4, 4, 3, 4, 4, 2, 1, 3, 3, 4, 3, 3, 3, 4, 3, 4, 3, 3, 3, 3, 3, 3, 4, 2, 4, 3, 4, 4, 4, 4, 3, 3, 3, 4, 3, 4, 3, 3, 3, 3, 2, 4, 3, 4, 4, 4, 3, 3, 3, 4, 4, 3, 3, 3, 2, 3, 3, 4, 3, 4, 4, 4, 4, 4, 3, 4, 3, 3, 2, 3, 4, 3, 1, 3, 4, 4, 4, 3, 4, 2, 3, 4, 3, 3, 4, 2, 4, 4, 3, 4, 3, 3, 3, 2, 3, 4, 4, 4, 3, 4, 3, 4, 4, 3, 3, 2, 3, 3, 3, 4, 4, 2, 4, 4, 3, 4, 3, 4, 3, 4, 3, 3, 4, 3, 4, 3, 3, 4, 3, 2, 4, 3, 3, 3, 4, 3, 3, 4, 2, 3, 3, 3, 3, 3, 3, 4, 4, 2, 3, 4, 3, 4, 3, 3, 3, 4, 3, 4, 3, 3, 4, 2, 3, 3, 4, 4, 2, 4, 4, 2, 4, 2, 3, 4, 3, 2, 3, 3, 3, 4, 3, 3, 3, 4, 4, 4, 3, 4, 3, 4, 2, 3, 4, 2, 4, 3, 4, 3, 3, 4, 3, 4, 3, 4, 3, 3, 4, 4, 3, 4, 3, 3, 2, 4, 4, 3, 3, 3, 4, 2, 3, 4, 3, 3, 4, 4, 2, 4, 4, 4, 2, 3, 3, 3, 3, 3, 4, 4, 3, 3, 3, 3, 2, 4, 4, 3, 3, 3, 4, 4, 3, 4, 3, 3, 3, 4, 4, 3, 3, 4, 3, 4, 4, 3, 3, 3, 3, 4, 3, 3, 3, 4, 3, 3, 4, 3, 3, 3, 3, 3, 3, 3, 3, 3, 3, 4, 3, 3, 2, 4, 3, 4, 4, 3, 2, 4, 4, 4, 3, 2, 2, 3, 4, 4, 4, 4, 4, 4, 4, 3, 3, 4, 3, 4, 3, 3, 3, 4, 4, 4, 2, 3, 3, 4, 4, 4, 4, 4, 3, 1, 2, 3, 4, 3, 3, 4, 2, 4, 3, 4, 3, 4, 2, 3, 4, 2, 3, 3, 3, 3, 3, 4, 3, 3, 3, 4, 3, 3, 3, 4, 2, 4, 3, 3, 3, 4, 4, 3, 3, 3, 4, 3, 4, 3, 4, 4, 4, 4, 3, 4, 3, 3, 4, 3, 4, 2, 3, 4, 2, 5, 4, 3, 4, 2, 2, 4, 3, 3, 4, 4, 3, 2, 4, 3, 4, 3, 3, 3, 4, 3, 4, 4, 3, 3, 3, 3, 3, 3, 3, 3, 3, 4, 4, 3, 4, 3, 3, 3, 3, 3, 4, 3, 4, 3, 3, 3, 4, 3, 4, 4, 2, 3, 3, 3, 3, 2, 4, 3, 3, 3, 4, 3, 4, 4, 3, 3, 3, 4, 2, 3, 3, 4, 4, 4, 4, 2, 4, 4, 3, 3, 2, 3, 3, 2, 1, 4, 4, 3, 3, 4, 2, 4, 3, 3, 4, 3, 4, 4, 4, 3, 4, 3, 4, 3, 4, 3, 4, 3, 3, 4, 3, 3, 2, 4, 3, 2, 3, 3, 3, 3, 3, 4, 4, 4, 4, 4, 4, 3, 2, 4, 2, 3, 3, 3, 3, 3, 4, 4, 2, 4, 3, 2, 4, 3, 3, 4, 4, 4, 4, 3, 4, 3, 4, 3, 3, 3, 3, 3, 3, 3, 3, 3, 2, 3, 3, 3, 1, 2, 3, 3, 2, 4, 2, 3, 3, 3, 4, 3, 3, 3, 3, 4, 3, 4, 3, 3, 4, 3, 3, 4, 3, 3, 3, 4, 3, 3, 4, 3, 3, 3, 3, 4, 3, 4, 4, 4, 2, 3, 3, 3, 4, 4, 3, 3, 4, 3, 3, 4, 3, 3, 4, 4, 3, 4, 3, 3, 3, 3, 2, 4, 3, 4, 4, 3, 4, 3, 2, 4, 3, 4, 3, 4, 4, 3, 3, 3, 4, 3, 3, 2, 3, 3, 4, 3, 4, 3, 4, 3, 3, 3, 2, 4, 4, 3, 3, 4, 4, 3, 3, 4, 4, 4, 2, 3, 4, 4, 3, 3, 4, 2, 4, 3, 4, 4, 3, 4, 4, 3, 3, 4, 4, 3, 3, 4, 3, 3, 2, 4, 2, 3, 3, 4, 3, 3, 4, 3, 4, 3, 4, 3, 2, 3, 3, 3, 4, 3, 4, 4, 3, 4, 4, 3, 4, 3, 4, 4, 3, 3, 4, 4, 4, 3, 1, 3, 3, 3, 4, 3, 3, 3, 4, 3, 4, 3, 4, 3, 2, 3, 3, 4, 4, 3, 3, 3, 2, 3, 3, 2, 3, 4, 2, 4, 3, 3, 4, 3, 4, 4, 4, 3, 3, 4, 3, 4, 3, 3, 4, 4, 4, 3, 3, 4, 3, 3, 3, 3, 4, 1, 3, 3, 4, 3, 4, 3, 3, 4, 3, 1, 3, 3, 3, 4, 2, 2, 3, 3, 4, 3, 4, 4, 4, 4, 3, 4, 4, 4, 2, 3, 4, 3, 4, 4, 4, 4, 3, 3, 2, 3, 3, 3, 3, 4, 3, 3, 4, 3, 3, 4, 2, 3, 4, 4, 4, 2, 3, 4, 3, 3, 3, 4, 4, 3, 3, 4, 4, 3, 3, 4, 4, 3, 3, 4, 3, 4, 2, 3, 3, 3, 3, 3, 3, 3, 3, 4, 4, 3, 2, 3, 2, 3, 3, 3, 3, 3, 1, 4, 3, 3, 4, 3, 3, 3, 1, 3, 3, 3, 2, 4, 3, 4, 4, 3, 3, 2, 2, 4, 3, 4, 4, 3, 3, 3, 4, 3, 4, 4, 3, 3, 3, 4, 3, 4, 4]\n"
     ]
    }
   ],
   "source": [
    "paths_0 = []\n",
    "z = all_shortest_path_lengths_from(random_graph, 1) \n",
    "for p, v in z.items():    \n",
    "    paths_0.append(v)\n",
    "print(paths_0)\n"
   ]
  },
  {
   "cell_type": "markdown",
   "metadata": {},
   "source": [
    "## 2. Visualizing the results\n",
    "Now that you have a list of the shortest paths for the graph, make a histogram for it. This can be done with [matplotlibs histogram function](http://matplotlib.org/api/pyplot_api.html?highlight=hist#matplotlib.pyplot.hist)"
   ]
  },
  {
   "cell_type": "code",
   "execution_count": 3,
   "metadata": {
    "collapsed": true
   },
   "outputs": [],
   "source": [
    "%matplotlib inline\n",
    "import matplotlib.pyplot as plt"
   ]
  },
  {
   "cell_type": "code",
   "execution_count": 106,
   "metadata": {
    "collapsed": false
   },
   "outputs": [
    {
     "data": {
      "image/png": "[encoded data removed]",
      "text/plain": [
       "<matplotlib.figure.Figure at 0x7f0557366eb8>"
      ]
     },
     "metadata": {},
     "output_type": "display_data"
    },
    {
     "name": "stdout",
     "output_type": "stream",
     "text": [
      "1199\n"
     ]
    }
   ],
   "source": [
    "data = paths_0 #all_shortest_path_lengths(random_graph)\n",
    "bins = list(range(0, 20, 2))\n",
    "\n",
    "plt.title(\"Histogram of shortest path lengths in random graph\")\n",
    "plt.xlabel(\"Path lengths\")\n",
    "plt.ylabel(\"Number of paths\")\n",
    "plt.hist(data, bins, histtype=\"bar\", rwidth=0.8)\n",
    "plt.show()\n",
    "\n",
    "print(len(data))"
   ]
  },
  {
   "cell_type": "markdown",
   "metadata": {},
   "source": [
    "### Name your notebook: shortest_lastname_firstname.ipynb and submit to Canvas"
   ]
  }
 ],
 "metadata": {
  "anaconda-cloud": {},
  "kernelspec": {
   "display_name": "Python [default]",
   "language": "python",
   "name": "python3"
  },
  "language_info": {
   "codemirror_mode": {
    "name": "ipython",
    "version": 3
   },
   "file_extension": ".py",
   "mimetype": "text/x-python",
   "name": "python",
   "nbconvert_exporter": "python",
   "pygments_lexer": "ipython3",
   "version": "3.5.2"
  }
 },
 "nbformat": 4,
 "nbformat_minor": 0
}
